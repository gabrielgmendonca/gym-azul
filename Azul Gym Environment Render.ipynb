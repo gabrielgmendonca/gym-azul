{
 "cells": [
  {
   "cell_type": "code",
   "execution_count": null,
   "metadata": {},
   "outputs": [],
   "source": [
    "%load_ext autoreload\n",
    "%autoreload 1\n",
    "\n",
    "# import gym\n",
    "# from gym import error, spaces\n",
    "# from gym.utils import seeding\n",
    "\n",
    "%aimport gym_azul.envs.board\n",
    "\n",
    "import numpy as np\n",
    "import matplotlib.pyplot as plt\n",
    "\n",
    "from gym_azul.envs.azul_env import AzulEnv\n",
    "from gym_azul.envs.board import Board"
   ]
  },
  {
   "cell_type": "code",
   "execution_count": null,
   "metadata": {
    "scrolled": true
   },
   "outputs": [],
   "source": [
    "env = AzulEnv()\n",
    "steps = 10\n",
    "total_reward = 0\n",
    "print(env.observation_space)\n",
    "for i in range(steps):\n",
    "    env.render('console')\n",
    "    obs, reward, done, info = env.step(env.action_space.sample())\n",
    "    total_reward += reward\n",
    "    if done:\n",
    "        break\n",
    "env.close()\n",
    "total_reward"
   ]
  },
  {
   "cell_type": "code",
   "execution_count": null,
   "metadata": {
    "scrolled": false
   },
   "outputs": [],
   "source": [
    "%matplotlib qt\n",
    "\n",
    "board = Board(1024, 1024, 5)\n",
    "board.render(env.factories, env.wall)\n",
    "board.show()"
   ]
  },
  {
   "cell_type": "code",
   "execution_count": null,
   "metadata": {},
   "outputs": [],
   "source": [
    "# board.close()"
   ]
  }
 ],
 "metadata": {
  "kernelspec": {
   "display_name": "Python 3",
   "language": "python",
   "name": "python3"
  },
  "language_info": {
   "codemirror_mode": {
    "name": "ipython",
    "version": 3
   },
   "file_extension": ".py",
   "mimetype": "text/x-python",
   "name": "python",
   "nbconvert_exporter": "python",
   "pygments_lexer": "ipython3",
   "version": "3.8.2"
  }
 },
 "nbformat": 4,
 "nbformat_minor": 2
}
